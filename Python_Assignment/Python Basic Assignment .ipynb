{
 "cells": [
  {
   "cell_type": "code",
   "execution_count": 8,
   "metadata": {},
   "outputs": [],
   "source": [
    "# 1. Simple Message: Store a message in a variable, and then print that message."
   ]
  },
  {
   "cell_type": "code",
   "execution_count": 9,
   "metadata": {},
   "outputs": [
    {
     "name": "stdout",
     "output_type": "stream",
     "text": [
      "My name is Aman\n"
     ]
    }
   ],
   "source": [
    "msg = \"My name is Aman\"\n",
    "print(msg)"
   ]
  },
  {
   "cell_type": "code",
   "execution_count": 10,
   "metadata": {},
   "outputs": [
    {
     "name": "stdout",
     "output_type": "stream",
     "text": [
      "My name is Aman Anand Tirpude\n"
     ]
    }
   ],
   "source": [
    "msg = \"My name is Aman Anand Tirpude\"\n",
    "print(msg)"
   ]
  },
  {
   "cell_type": "code",
   "execution_count": 15,
   "metadata": {},
   "outputs": [
    {
     "name": "stdout",
     "output_type": "stream",
     "text": [
      "Hello Aman, let's learn Python today\n"
     ]
    }
   ],
   "source": [
    "msg = \"Hello Aman, let's learn Python today\"\n",
    "print(msg)"
   ]
  },
  {
   "cell_type": "code",
   "execution_count": 18,
   "metadata": {},
   "outputs": [
    {
     "name": "stdout",
     "output_type": "stream",
     "text": [
      "APJ Abdul Kalam once said, 'Don't take rest after your first victory because if you fail in second, more lips are waiting to say that your first victory was just luck'\n"
     ]
    }
   ],
   "source": [
    "Author = \"APJ Abdul Kalam\"\n",
    "quote = \"'Don't take rest after your first victory because if you fail in second, more lips are waiting to say that your first victory was just luck'\"\n",
    "print(Author, \"once said,\", quote)"
   ]
  },
  {
   "cell_type": "code",
   "execution_count": 10,
   "metadata": {},
   "outputs": [
    {
     "name": "stdout",
     "output_type": "stream",
     "text": [
      "('APJ Abdul Kalam', 'once said,', \"Don't take rest after your first victory because if you fail in second, more lips are waiting to say that your first victory was just luck\")\n"
     ]
    }
   ],
   "source": [
    "#### Famous Quotation by APJ Abdul Kalam\n",
    "Famous_Person = \"APJ Abdul Kalam\"\n",
    "quote = \"Don't take rest after your first victory because if you fail in second, more lips are waiting to say that your first victory was just luck\"\n",
    "msg = (Famous_Person,\"once said,\", quote)\n",
    "print(msg)"
   ]
  },
  {
   "cell_type": "code",
   "execution_count": 13,
   "metadata": {},
   "outputs": [
    {
     "name": "stdout",
     "output_type": "stream",
     "text": [
      "8\n",
      "8\n",
      "8\n",
      "8.0\n"
     ]
    }
   ],
   "source": [
    "#### Below program prints addition, subtraction, multiplication and division of two numbers which results 8 in all.\n",
    "print(2+6)\n",
    "print(10-2)\n",
    "print(4*2)\n",
    "print(16/2)"
   ]
  },
  {
   "cell_type": "code",
   "execution_count": 15,
   "metadata": {},
   "outputs": [
    {
     "name": "stdout",
     "output_type": "stream",
     "text": [
      "My Favourite Number is 6\n"
     ]
    }
   ],
   "source": [
    "num = 6\n",
    "print(\"My Favourite Number is\", num)"
   ]
  },
  {
   "cell_type": "code",
   "execution_count": 24,
   "metadata": {},
   "outputs": [
    {
     "name": "stdout",
     "output_type": "stream",
     "text": [
      "Lokesh\n",
      "Deepak\n",
      "Shubham\n",
      "Apurv\n",
      "Mukul\n"
     ]
    }
   ],
   "source": [
    "names = ['Lokesh', 'Deepak', 'Shubham', 'Apurv', 'Mukul']\n",
    "print(names[0])\n",
    "print(names[1])\n",
    "print(names[2])\n",
    "print(names[3])\n",
    "print(names[4])"
   ]
  },
  {
   "cell_type": "code",
   "execution_count": 20,
   "metadata": {},
   "outputs": [
    {
     "name": "stdout",
     "output_type": "stream",
     "text": [
      "Hello Lokesh how are you?\n",
      "Hello Deepak how are you?\n",
      "Hello Shubham how are you?\n",
      "Hello Apurv how are you?\n",
      "Hello Mukul how are you?\n"
     ]
    }
   ],
   "source": [
    "print(\"Hello\",names[0],\"how are you?\")\n",
    "print(\"Hello\",names[1],\"how are you?\")\n",
    "print(\"Hello\",names[2],\"how are you?\")\n",
    "print(\"Hello\",names[3],\"how are you?\")\n",
    "print(\"Hello\",names[4],\"how are you?\")"
   ]
  },
  {
   "cell_type": "code",
   "execution_count": 25,
   "metadata": {},
   "outputs": [
    {
     "name": "stdout",
     "output_type": "stream",
     "text": [
      "I woild like to own Bajaj Pulsur NS 200\n",
      "I love to ride Sports Bike\n",
      "I will purchase a motorcycle in 2022\n",
      "I want to ride a solo trip on a motorcycle\n"
     ]
    }
   ],
   "source": [
    "list1 = ['I woild like to own Bajaj Pulsur NS 200', 'I love to ride Sports Bike', 'I will purchase a motorcycle in 2022', 'I want to ride a solo trip on a motorcycle']\n",
    "print(list1[0])\n",
    "print(list1[1])\n",
    "print(list1[2])\n",
    "print(list1[3])"
   ]
  },
  {
   "cell_type": "code",
   "execution_count": null,
   "metadata": {},
   "outputs": [],
   "source": []
  }
 ],
 "metadata": {
  "kernelspec": {
   "display_name": "Python 3",
   "language": "python",
   "name": "python3"
  },
  "language_info": {
   "codemirror_mode": {
    "name": "ipython",
    "version": 3
   },
   "file_extension": ".py",
   "mimetype": "text/x-python",
   "name": "python",
   "nbconvert_exporter": "python",
   "pygments_lexer": "ipython3",
   "version": "3.8.5"
  }
 },
 "nbformat": 4,
 "nbformat_minor": 4
}
